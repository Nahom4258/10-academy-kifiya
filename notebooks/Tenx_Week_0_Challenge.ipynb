{
 "cells": [
  {
   "cell_type": "code",
   "execution_count": 26,
   "id": "cc9cdfe1-51a4-44a7-a5b0-64096a8d4228",
   "metadata": {},
   "outputs": [],
   "source": [
    "import pandas as pd\n",
    "import numpy as np\n",
    "import matplotlib.pyplot as plt\n",
    "import seaborn as sns"
   ]
  },
  {
   "cell_type": "code",
   "execution_count": 6,
   "id": "0ce619f6-69cc-4b00-9254-5f5a7c2bfc1a",
   "metadata": {},
   "outputs": [],
   "source": []
  },
  {
   "cell_type": "code",
   "execution_count": 8,
   "id": "2d378add-6a8b-4c8f-9150-a0f61a369abf",
   "metadata": {},
   "outputs": [],
   "source": [
    "df = pd.read_csv(d1_path)"
   ]
  },
  {
   "cell_type": "code",
   "execution_count": 11,
   "id": "310e8845-b292-4962-b8d0-4e1a4a3b8129",
   "metadata": {},
   "outputs": [
    {
     "data": {
      "text/plain": [
       "Index(['Timestamp', 'GHI', 'DNI', 'DHI', 'ModA', 'ModB', 'Tamb', 'RH', 'WS',\n",
       "       'WSgust', 'WSstdev', 'WD', 'WDstdev', 'BP', 'Cleaning', 'Precipitation',\n",
       "       'TModA', 'TModB', 'Comments'],\n",
       "      dtype='object')"
      ]
     },
     "execution_count": 11,
     "metadata": {},
     "output_type": "execute_result"
    }
   ],
   "source": [
    "df.columns"
   ]
  },
  {
   "cell_type": "markdown",
   "id": "bf4f68a3-cfc7-47d4-8c41-bc525ed705ba",
   "metadata": {},
   "source": [
    "### Data Quality Check"
   ]
  },
  {
   "cell_type": "markdown",
   "id": "9c1b5714-f912-4582-b6b4-c1d9294e7915",
   "metadata": {},
   "source": [
    "#### Check for missing values, outliers or incorrect entries, columns like (GHI, DNI, DHI) and check for outliers in columns like (ModA, ModB, WS, WSgust)"
   ]
  },
  {
   "cell_type": "code",
   "execution_count": 19,
   "id": "166535ef-a749-409b-a2d3-6237368b7483",
   "metadata": {},
   "outputs": [
    {
     "name": "stdout",
     "output_type": "stream",
     "text": [
      "Null values:  Timestamp             0\n",
      "GHI                   0\n",
      "DNI                   0\n",
      "DHI                   0\n",
      "ModA                  0\n",
      "ModB                  0\n",
      "Tamb                  0\n",
      "RH                    0\n",
      "WS                    0\n",
      "WSgust                0\n",
      "WSstdev               0\n",
      "WD                    0\n",
      "WDstdev               0\n",
      "BP                    0\n",
      "Cleaning              0\n",
      "Precipitation         0\n",
      "TModA                 0\n",
      "TModB                 0\n",
      "Comments         525600\n",
      "dtype: int64\n",
      "Negative values:  278722\n"
     ]
    }
   ],
   "source": [
    "# Check for null values\n",
    "null_values = df.isnull().sum()\n",
    "\n",
    "print('Null values: ', null_values)\n",
    "\n",
    "# Check for negative values in GHI, DNI, DHI columns\n",
    "neg_values = df[(df['GHI'] < 0) | (df['DNI'] < 0) | (df['DHI'] < 0)]\n",
    "print('Negative values: ', len(neg_values))"
   ]
  },
  {
   "cell_type": "code",
   "execution_count": 7,
   "id": "c1f60178-40aa-4d9e-a826-fcece1c224bf",
   "metadata": {},
   "outputs": [],
   "source": [
    "def clean_data(data):\n",
    "    # Drop rows with missing values in important columns (e.g., GHI, DNI)\n",
    "    df_cleaned = df.dropna(subset=['GHI', 'DNI', 'DHI', 'ModA', 'ModB'])\n",
    "    \n",
    "    # Replace or impute missing values in other columns\n",
    "    df_cleaned = df_cleaned['WSgust'].fillna(df_cleaned['WSgust'].mean())\n",
    "    \n",
    "    # Remove rows with negative values where not appropriate\n",
    "    df_cleaned = df_cleaned[(df_cleaned['GHI'] >= 0) & (df_cleaned['DNI'] >= 0) & \n",
    "                            (df_cleaned['DHI'] >= 0) & (df_cleaned['ModA'] >= 0) & \n",
    "                            (df_cleaned['ModB'] >= 0) & (df_cleaned['WS'] >= 0)]\n",
    "\n",
    "    return df_cleaned"
   ]
  },
  {
   "cell_type": "code",
   "execution_count": 8,
   "id": "b035f4ad-cab5-4d62-b8c2-7b68017df188",
   "metadata": {},
   "outputs": [],
   "source": [
    "def eda(data):\n",
    "    # Convert the time column to datetime\n",
    "    df['Timestamp'] = pd.to_datetime(df['Timestamp'])\n",
    "    \n",
    "    # Plot time series for GHI, DNI, DHI, and Tamb\n",
    "    plt.figure(figsize=(12, 6))\n",
    "    plt.plot(df['Timestamp'], df['GHI'], label='GHI')\n",
    "    plt.plot(df['Timestamp'], df['DNI'], label='DNI')\n",
    "    plt.plot(df['Timestamp'], df['DHI'], label='DHI')\n",
    "    plt.plot(df['Timestamp'], df['Tamb'], label='Tamb')\n",
    "    plt.legend()\n",
    "    plt.title('Time Series of GHI, DNI, DHI, and Tamb')\n",
    "    plt.show()\n",
    "    \n",
    "    # Correlation heatmap\n",
    "    correlation = df[['GHI', 'DNI', 'DHI', 'TModA', 'TModB', 'WS', 'WSgust', 'WD']].corr()\n",
    "    sns.heatmap(correlation, annot=True, cmap='coolwarm')\n",
    "    plt.title('Correlation Heatmap')\n",
    "    plt.show()\n",
    "    \n",
    "    # Scatter plot of RH vs Temperature and GHI\n",
    "    plt.figure(figsize=(12, 6))\n",
    "    plt.scatter(df['RH'], df['Tamb'], alpha=0.6, label='Temperature vs RH')\n",
    "    plt.scatter(df['RH'], df['GHI'], alpha=0.6, label='GHI vs RH')\n",
    "    plt.legend()\n",
    "    plt.title('Impact of Relative Humidity on Temperature and Solar Radiation')\n",
    "    plt.show()\n",
    "    \n",
    "    # Histograms of key variables\n",
    "    df[['GHI', 'DNI', 'DHI', 'WS', 'Tamb']].hist(bins=30, figsize=(12, 8))\n",
    "    plt.suptitle('Histograms of GHI, DNI, DHI, WS, and Tamb')\n",
    "    plt.show()"
   ]
  },
  {
   "cell_type": "code",
   "execution_count": null,
   "id": "95397163-2bf4-4a55-82e1-c23d8f00f251",
   "metadata": {},
   "outputs": [],
   "source": []
  }
 ],
 "metadata": {
  "kernelspec": {
   "display_name": "Python 3 (ipykernel)",
   "language": "python",
   "name": "python3"
  },
  "language_info": {
   "codemirror_mode": {
    "name": "ipython",
    "version": 3
   },
   "file_extension": ".py",
   "mimetype": "text/x-python",
   "name": "python",
   "nbconvert_exporter": "python",
   "pygments_lexer": "ipython3",
   "version": "3.12.3"
  }
 },
 "nbformat": 4,
 "nbformat_minor": 5
}
